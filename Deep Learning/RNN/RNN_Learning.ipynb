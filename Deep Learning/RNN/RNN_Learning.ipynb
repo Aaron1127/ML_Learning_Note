{
 "cells": [
  {
   "cell_type": "markdown",
   "metadata": {},
   "source": [
    "## RNN\n",
    "- RNN gives us a way to incorporate **memory** into our neural networks, and will be critical in analyzing sequential data. "
   ]
  },
  {
   "cell_type": "markdown",
   "metadata": {},
   "source": [
    "### RNN's in Computer Vision\n",
    "- Image Captioning \n",
    "- Analyze sequences of images : captioning videos, [video classification](https://s3.amazonaws.com/video.udacity-data.com/topher/2018/May/5af0e03b_video-classification/video-classification.pdf), gesture recogniton, object tracking, etc. All of these \n",
    "  tasks see as input a sequence of image frames.\n",
    "- [Sketch RNN](https://magenta.tensorflow.org/assets/sketch_rnn_demo/index.html)\n",
    "    "
   ]
  },
  {
   "cell_type": "markdown",
   "metadata": {},
   "source": [
    "### RNN history\n",
    "- [TDNN](https://en.wikipedia.org/wiki/Time_delay_neural_network)\n",
    "- [Elman Network](http://onlinelibrary.wiley.com/doi/10.1207/s15516709cog1402_1/abstract)\n",
    "- RNNs have a **key flaw**, as capturing relationship that span more than 8 or 10 step back is practically impossible. This flaw \n",
    "  stems from the [**vanishing gradient**](https://en.wikipedia.org/wiki/Vanishing_gradient_problem) problem in which the contribution of information decays [geometrically](https://socratic.org/algebra/exponents-and-exponential-functions/geometric-sequences-and-exponential-functions) over time. \n",
    "- [**LSTM**](https://deeplearning4j.org/lstm.html) is one option to overcome the Vanishing Gradient problem in RNNs."
   ]
  },
  {
   "cell_type": "markdown",
   "metadata": {},
   "source": [
    "### RNN Applications\n",
    "- Speech Recogniton (Ex:Apple Siri, Amazon Alexa, Google Assistant, etc)\n",
    "- Time Series Prediction (Ex:traffic patterns, [movie selection](https://arxiv.org/pdf/1511.06939.pdf), stock movement and market conditions, etc.)\n",
    "- Natural Language Processing(NLP) (Ex:machine translation, question answering, chatbots, etc.)"
   ]
  },
  {
   "cell_type": "code",
   "execution_count": null,
   "metadata": {},
   "outputs": [],
   "source": []
  }
 ],
 "metadata": {
  "kernelspec": {
   "display_name": "Python 3",
   "language": "python",
   "name": "python3"
  },
  "language_info": {
   "codemirror_mode": {
    "name": "ipython",
    "version": 3
   },
   "file_extension": ".py",
   "mimetype": "text/x-python",
   "name": "python",
   "nbconvert_exporter": "python",
   "pygments_lexer": "ipython3",
   "version": "3.6.3"
  }
 },
 "nbformat": 4,
 "nbformat_minor": 2
}
